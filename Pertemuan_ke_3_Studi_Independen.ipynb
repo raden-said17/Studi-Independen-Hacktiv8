{
  "cells": [
    {
      "cell_type": "code",
      "execution_count": null,
      "metadata": {
        "id": "JnTPT7WEYOTD"
      },
      "outputs": [],
      "source": [
        "print(\"Hello Wiguna\")\n",
        "print(\"Saya Python\")\n",
        "print(\"Universitas Jember\")\n",
        "print(\"Fakultas MIPA\")\n"
      ]
    },
    {
      "cell_type": "code",
      "execution_count": null,
      "metadata": {
        "id": "T29IdUpcH0Q6"
      },
      "outputs": [],
      "source": [
        "def cetak_kata():\n",
        "  print(\"Hello Wiguna\")\n",
        "  print(\"Saya Python\")\n",
        "  print(\"Universitas Jember\")\n",
        "  print(\"Fakultas MIPA\")"
      ]
    },
    {
      "cell_type": "code",
      "execution_count": null,
      "metadata": {
        "colab": {
          "base_uri": "https://localhost:8080/"
        },
        "id": "hWPNV_gmH_-_",
        "outputId": "7cb180d4-61ee-4101-9513-dc5240176dc1"
      },
      "outputs": [
        {
          "name": "stdout",
          "output_type": "stream",
          "text": [
            "Hello Wiguna\n",
            "Saya Python\n",
            "Universitas Jember\n",
            "Fakultas MIPA\n"
          ]
        }
      ],
      "source": [
        "cetak_kata()"
      ]
    },
    {
      "cell_type": "code",
      "execution_count": null,
      "metadata": {
        "id": "z7-XqUjCJaaX"
      },
      "outputs": [],
      "source": [
        "def penjumlahan(x,y):\n",
        "  \"\"\"\n",
        "  ini adalah function penjumlahan dari parameter x + parameter y\n",
        "  dan mengembalikan nilai dari penjumlahan\n",
        "  \"\"\"\n",
        "  total = x + y\n",
        "  return total\n"
      ]
    },
    {
      "cell_type": "code",
      "execution_count": null,
      "metadata": {
        "colab": {
          "base_uri": "https://localhost:8080/"
        },
        "id": "ZRMzyNO7JkFL",
        "outputId": "d7ee9dd9-f0a9-4ae0-c3da-1b7c6fb37abb"
      },
      "outputs": [
        {
          "name": "stdout",
          "output_type": "stream",
          "text": [
            "30\n"
          ]
        }
      ],
      "source": [
        "a = 10\n",
        "b = 20\n",
        "hasil = penjumlahan(a,b)\n",
        "print(hasil)"
      ]
    },
    {
      "cell_type": "code",
      "execution_count": null,
      "metadata": {
        "colab": {
          "base_uri": "https://localhost:8080/"
        },
        "id": "_B0yc-cSKKiG",
        "outputId": "91c62e46-80b6-4dc0-f552-f3f7c5e5242b"
      },
      "outputs": [
        {
          "name": "stdout",
          "output_type": "stream",
          "text": [
            "3\n"
          ]
        }
      ],
      "source": [
        "c = 1\n",
        "d = 2\n",
        "hasil = penjumlahan(c,d)\n",
        "print(hasil)"
      ]
    },
    {
      "cell_type": "code",
      "execution_count": null,
      "metadata": {
        "colab": {
          "base_uri": "https://localhost:8080/"
        },
        "id": "N1uecBkOLzw4",
        "outputId": "ebe6e540-a46f-4be7-afa3-add9e68f5bf7"
      },
      "outputs": [
        {
          "name": "stdout",
          "output_type": "stream",
          "text": [
            "Bilangan Genap\n"
          ]
        }
      ],
      "source": [
        "x = 10\n",
        "hasil = x % 2\n",
        "if hasil ==1:\n",
        "  print(\"Bilangan Ganjil\")\n",
        "else:\n",
        "  print(\"Bilangan Genap\")"
      ]
    },
    {
      "cell_type": "code",
      "execution_count": null,
      "metadata": {
        "colab": {
          "base_uri": "https://localhost:8080/"
        },
        "id": "JZfDIcpSLsry",
        "outputId": "3b85e088-2715-473d-814f-2027bca9c09c"
      },
      "outputs": [
        {
          "name": "stdout",
          "output_type": "stream",
          "text": [
            "0\n"
          ]
        },
        {
          "data": {
            "text/plain": [
              "False"
            ]
          },
          "execution_count": 21,
          "metadata": {},
          "output_type": "execute_result"
        }
      ],
      "source": [
        "print(10 % 2)\n",
        "bool(10 % 2)"
      ]
    },
    {
      "cell_type": "code",
      "execution_count": null,
      "metadata": {
        "id": "neY3FokdKxAK"
      },
      "outputs": [],
      "source": [
        "# buat function cek bilangan ganjil atau genap\n",
        "def ganjilgenap(a):\n",
        "  if a % 2 == 0:\n",
        "    print(a, \"adalah bilangan genap\")\n",
        "  else:\n",
        "    print(a, \"adalah bilangan ganjil\")"
      ]
    },
    {
      "cell_type": "code",
      "execution_count": null,
      "metadata": {
        "colab": {
          "base_uri": "https://localhost:8080/"
        },
        "id": "9I2V_i8fLW6f",
        "outputId": "38099dbc-952a-45f8-aa11-f63f5759f6e5"
      },
      "outputs": [
        {
          "name": "stdout",
          "output_type": "stream",
          "text": [
            "2 adalah bilangan genap\n",
            "3 adalah bilangan ganjil\n"
          ]
        }
      ],
      "source": [
        "ganjilgenap(2)\n",
        "ganjilgenap(3)"
      ]
    },
    {
      "cell_type": "code",
      "execution_count": null,
      "metadata": {
        "colab": {
          "base_uri": "https://localhost:8080/"
        },
        "id": "tsFCDrkfNC_t",
        "outputId": "7678667a-80fe-4fda-e601-03cc25611700"
      },
      "outputs": [
        {
          "name": "stdout",
          "output_type": "stream",
          "text": [
            "2 adalah bilangan genap\n"
          ]
        }
      ],
      "source": [
        "x = 2\n",
        "ganjilgenap(x)"
      ]
    },
    {
      "cell_type": "code",
      "execution_count": null,
      "metadata": {
        "colab": {
          "base_uri": "https://localhost:8080/"
        },
        "id": "QMc26MXtO5k_",
        "outputId": "599c9f68-e655-4880-c223-9f6f8843e548"
      },
      "outputs": [
        {
          "name": "stdout",
          "output_type": "stream",
          "text": [
            "20 adalah bilangan genap\n",
            "None\n"
          ]
        }
      ],
      "source": [
        "hasil = ganjilgenap(20)\n",
        "print(hasil)"
      ]
    },
    {
      "cell_type": "code",
      "execution_count": null,
      "metadata": {
        "id": "l1IkMIdTN4E5"
      },
      "outputs": [],
      "source": [
        "# aturan penamaan function\n",
        "# - dimulai huruf (A - Z, a - z)\n",
        "# - dimulai menggunakan _ (undescore)"
      ]
    },
    {
      "cell_type": "code",
      "execution_count": null,
      "metadata": {
        "id": "tKokFeH3O_lU"
      },
      "outputs": [],
      "source": [
        "def cetak(data):\n",
        "  print(data)\n",
        "  return\n"
      ]
    },
    {
      "cell_type": "code",
      "execution_count": null,
      "metadata": {
        "colab": {
          "base_uri": "https://localhost:8080/"
        },
        "id": "xIsfaLMWPJjk",
        "outputId": "a12bb915-1e66-45fb-e8bf-584d6eee03c0"
      },
      "outputs": [
        {
          "name": "stdout",
          "output_type": "stream",
          "text": [
            "Hello\n",
            "None\n"
          ]
        }
      ],
      "source": [
        "tampung = cetak(\"Hello\")\n",
        "print(tampung)"
      ]
    },
    {
      "cell_type": "code",
      "execution_count": null,
      "metadata": {
        "id": "iFvDTgQzPVGe"
      },
      "outputs": [],
      "source": [
        "### pass by reference"
      ]
    },
    {
      "cell_type": "code",
      "execution_count": null,
      "metadata": {
        "colab": {
          "base_uri": "https://localhost:8080/"
        },
        "id": "4JO7SXisPrT8",
        "outputId": "eaf0b79a-1b9e-42a5-8f39-0ab21147c3c6"
      },
      "outputs": [
        {
          "name": "stdout",
          "output_type": "stream",
          "text": [
            "isi dari list x [10, 20, 30]\n"
          ]
        }
      ],
      "source": [
        "listx = [10,20,30]\n",
        "print(f\"isi dari list x {listx}\")"
      ]
    },
    {
      "cell_type": "code",
      "execution_count": null,
      "metadata": {
        "id": "Ury6H_OEP0oE"
      },
      "outputs": [],
      "source": [
        "listx.append(40)"
      ]
    },
    {
      "cell_type": "code",
      "execution_count": null,
      "metadata": {
        "colab": {
          "base_uri": "https://localhost:8080/"
        },
        "id": "K_jYaxgoP5Q0",
        "outputId": "f91a93a0-ce9e-4ed4-d994-bb5e3b55277f"
      },
      "outputs": [
        {
          "name": "stdout",
          "output_type": "stream",
          "text": [
            "isi dari list x [10, 20, 30, 40]\n"
          ]
        }
      ],
      "source": [
        "print(f\"isi dari list x {listx}\")"
      ]
    },
    {
      "cell_type": "code",
      "execution_count": null,
      "metadata": {
        "id": "cDBq9iawP8cb"
      },
      "outputs": [],
      "source": [
        "def penambahanlist(mylist):\n",
        "  mylist.append([1,3,5,7])\n",
        "  print(\"Penambahan Selesai\")"
      ]
    },
    {
      "cell_type": "code",
      "execution_count": null,
      "metadata": {
        "colab": {
          "base_uri": "https://localhost:8080/"
        },
        "id": "Tus7OkbvQOcP",
        "outputId": "32265904-9f14-455b-db1e-efd4a23de6e1"
      },
      "outputs": [
        {
          "name": "stdout",
          "output_type": "stream",
          "text": [
            "Penambahan Selesai\n",
            "None\n"
          ]
        }
      ],
      "source": [
        "list1 = [30,50,70]\n",
        "hasil = penambahanlist(list1)\n",
        "print(hasil)"
      ]
    },
    {
      "cell_type": "code",
      "execution_count": null,
      "metadata": {
        "colab": {
          "base_uri": "https://localhost:8080/"
        },
        "id": "EhLFsqhSQYpU",
        "outputId": "3b12513a-c209-411e-f69e-911057cba936"
      },
      "outputs": [
        {
          "name": "stdout",
          "output_type": "stream",
          "text": [
            "[30, 50, 70, [1, 3, 5, 7]]\n"
          ]
        }
      ],
      "source": [
        "print(list1)"
      ]
    },
    {
      "cell_type": "code",
      "execution_count": null,
      "metadata": {
        "id": "WBVeazFjQjnO"
      },
      "outputs": [],
      "source": [
        "def perubahanlist(mylist):\n",
        "  print(f\"Parameter yang dikirim {mylist}\")\n",
        "  mylist = [9,8,3]\n",
        "  print(f\"parameter mylist di assign value baru {mylist}\")\n",
        "  print(\"Penambahan Selesai\")"
      ]
    },
    {
      "cell_type": "code",
      "execution_count": null,
      "metadata": {
        "colab": {
          "base_uri": "https://localhost:8080/"
        },
        "id": "k8YHrFeOQ6JT",
        "outputId": "ff256bb4-cd2c-41b2-d2cb-faaf6ba47b59"
      },
      "outputs": [
        {
          "name": "stdout",
          "output_type": "stream",
          "text": [
            "Parameter yang dikirim [30, 50, 70]\n",
            "parameter mylist di assign value baru [9, 8, 3]\n",
            "Penambahan Selesai\n",
            "hasil setelah panggil func perubahanlist [30, 50, 70]\n"
          ]
        }
      ],
      "source": [
        "list2 = [30,50,70]\n",
        "perubahanlist(list2)\n",
        "print(f\"hasil setelah panggil func perubahanlist {list2}\")"
      ]
    },
    {
      "cell_type": "code",
      "execution_count": null,
      "metadata": {
        "id": "iFcaCPb5R38U"
      },
      "outputs": [],
      "source": [
        "## function requirement\n",
        "def cetak(data):\n",
        "  print(data)\n",
        "  return"
      ]
    },
    {
      "cell_type": "code",
      "execution_count": null,
      "metadata": {
        "colab": {
          "base_uri": "https://localhost:8080/"
        },
        "id": "jcm46i6jS1fc",
        "outputId": "ac0ac609-28fc-498b-df42-3d80f2eb64a8"
      },
      "outputs": [
        {
          "name": "stdout",
          "output_type": "stream",
          "text": [
            "halo\n"
          ]
        }
      ],
      "source": [
        "cetak(\"halo\")"
      ]
    },
    {
      "cell_type": "code",
      "execution_count": null,
      "metadata": {
        "id": "gGBMU-H3S5kX"
      },
      "outputs": [],
      "source": [
        "def hitung(x, y):\n",
        "  return x - y"
      ]
    },
    {
      "cell_type": "code",
      "execution_count": null,
      "metadata": {
        "colab": {
          "base_uri": "https://localhost:8080/"
        },
        "id": "niTpziLqS_A5",
        "outputId": "4eb138e3-31b5-4d01-a1ad-e884b2a0f306"
      },
      "outputs": [
        {
          "name": "stdout",
          "output_type": "stream",
          "text": [
            "9900\n"
          ]
        }
      ],
      "source": [
        "ant = 10000\n",
        "disc = 100\n",
        "\n",
        "hasil = hitung(ant, disc)\n",
        "print(hasil)"
      ]
    },
    {
      "cell_type": "code",
      "execution_count": null,
      "metadata": {
        "id": "OTrbyKeRTJ6t"
      },
      "outputs": [],
      "source": [
        "def totalbelanja(ant, disc):\n",
        "  return ant - disc"
      ]
    },
    {
      "cell_type": "code",
      "execution_count": null,
      "metadata": {
        "colab": {
          "base_uri": "https://localhost:8080/"
        },
        "id": "9WqU27jYTgow",
        "outputId": "8a7c7900-f1f8-48f7-fa1a-4252b7e06cdb"
      },
      "outputs": [
        {
          "name": "stdout",
          "output_type": "stream",
          "text": [
            "9900\n"
          ]
        }
      ],
      "source": [
        "hasil = totalbelanja(disc = 100, ant=10000)\n",
        "print(hasil)"
      ]
    },
    {
      "cell_type": "code",
      "execution_count": null,
      "metadata": {
        "id": "C_1KRQ7iTsGZ"
      },
      "outputs": [],
      "source": [
        "def totalbelanja2(ant, disc=10):\n",
        "  return ant - disc"
      ]
    },
    {
      "cell_type": "code",
      "execution_count": null,
      "metadata": {
        "colab": {
          "base_uri": "https://localhost:8080/"
        },
        "id": "CtWp70GfUDHD",
        "outputId": "d1e8fc31-ae1c-4a78-ee92-3d3755c41627"
      },
      "outputs": [
        {
          "name": "stdout",
          "output_type": "stream",
          "text": [
            "9990\n"
          ]
        }
      ],
      "source": [
        "hasil = totalbelanja2(10000)\n",
        "print(hasil)"
      ]
    },
    {
      "cell_type": "code",
      "execution_count": null,
      "metadata": {
        "colab": {
          "base_uri": "https://localhost:8080/"
        },
        "id": "uLB_gMdcUX63",
        "outputId": "b3ab150c-bf77-4987-9ac5-345a272881a5"
      },
      "outputs": [
        {
          "name": "stdout",
          "output_type": "stream",
          "text": [
            "9500\n"
          ]
        }
      ],
      "source": [
        "hasil = totalbelanja2(10000,500)\n",
        "print(hasil)"
      ]
    },
    {
      "cell_type": "code",
      "execution_count": null,
      "metadata": {
        "id": "OXhXg5OQUa4a"
      },
      "outputs": [],
      "source": [
        "def cetakargument(*args):\n",
        "  print(args)\n",
        "  print(type(args))"
      ]
    },
    {
      "cell_type": "code",
      "execution_count": null,
      "metadata": {
        "colab": {
          "base_uri": "https://localhost:8080/"
        },
        "id": "uLBayPwfU8cu",
        "outputId": "1ad6a4da-d3df-4373-8320-7676eea69d78"
      },
      "outputs": [
        {
          "name": "stdout",
          "output_type": "stream",
          "text": [
            "(1, 2, 3, 4, 5, 6, 7, 8, 9, 10, 11, 12)\n",
            "<class 'tuple'>\n"
          ]
        }
      ],
      "source": [
        "cetakargument(1,2,3,4,5,6,7,8,9,10,11,12)"
      ]
    },
    {
      "cell_type": "code",
      "execution_count": null,
      "metadata": {
        "id": "zn8wPd3vViy3"
      },
      "outputs": [],
      "source": [
        "def cetak(param1, *args):\n",
        "  print(f\"Parameter 1 : {param1}\")\n",
        "  print(f\"Parameter 2 sebagai args : {args}\")\n",
        "  for x in args:\n",
        "    print(f\"cetal {x}\")\n",
        "  print(\"Function Done\")"
      ]
    },
    {
      "cell_type": "code",
      "execution_count": null,
      "metadata": {
        "colab": {
          "base_uri": "https://localhost:8080/"
        },
        "id": "bXGVRv_3V78i",
        "outputId": "8ce33c70-169b-4c7e-930e-0f1173781147"
      },
      "outputs": [
        {
          "name": "stdout",
          "output_type": "stream",
          "text": [
            "Parameter 1 : helo\n",
            "Parameter 2 sebagai args : (1, 2, 3, 4, 5, 6, 7, 8, 9, 10)\n",
            "cetal 1\n",
            "cetal 2\n",
            "cetal 3\n",
            "cetal 4\n",
            "cetal 5\n",
            "cetal 6\n",
            "cetal 7\n",
            "cetal 8\n",
            "cetal 9\n",
            "cetal 10\n",
            "Function Done\n"
          ]
        }
      ],
      "source": [
        "vara = \"helo\"\n",
        "cetak(vara,1,2,3,4,5,6,7,8,9,10)"
      ]
    },
    {
      "cell_type": "code",
      "execution_count": null,
      "metadata": {
        "id": "FkuZLeXEWRCq"
      },
      "outputs": [],
      "source": [
        "def func_cetak(param1, param2, param3):\n",
        "  print(f\"param1 = {param1}, param2 = {param2}, param3 = {param3}\")"
      ]
    },
    {
      "cell_type": "code",
      "execution_count": null,
      "metadata": {
        "colab": {
          "base_uri": "https://localhost:8080/"
        },
        "id": "ojOzy17uXLNT",
        "outputId": "1eb07b9d-0fad-4dba-b59c-4e125d1de949"
      },
      "outputs": [
        {
          "name": "stdout",
          "output_type": "stream",
          "text": [
            "param1 = 10, param2 = 20, param3 = {1, 2, 3, 4, 5, 6, 7, 8, 9, 10}\n"
          ]
        }
      ],
      "source": [
        "x = 10\n",
        "y = 20\n",
        "z = {1,2,3,4,5,6,7,8,9,10}\n",
        "func_cetak(x,y,z)"
      ]
    },
    {
      "cell_type": "code",
      "execution_count": null,
      "metadata": {
        "colab": {
          "base_uri": "https://localhost:8080/"
        },
        "id": "eMpM-ZraXZBy",
        "outputId": "49e9e9d0-2020-4d61-c3ee-99df7e1edb2e"
      },
      "outputs": [
        {
          "name": "stdout",
          "output_type": "stream",
          "text": [
            "{1, 2, 3, 4, 5, 6, 7, 8, 9, 10}\n"
          ]
        }
      ],
      "source": [
        "print(z)"
      ]
    },
    {
      "cell_type": "code",
      "execution_count": null,
      "metadata": {
        "id": "TaZISyo3XcIz"
      },
      "outputs": [],
      "source": [
        "def cetakarg(**parameters):\n",
        "  print(parameters)"
      ]
    },
    {
      "cell_type": "code",
      "execution_count": null,
      "metadata": {
        "colab": {
          "base_uri": "https://localhost:8080/"
        },
        "id": "pJxfQfdEXmrq",
        "outputId": "bd8b600a-9e70-4c66-92d1-45f7fd489aa1"
      },
      "outputs": [
        {
          "name": "stdout",
          "output_type": "stream",
          "text": [
            "{'name': 'Wiguna', 'job': 'Data Analyst', 'description': 'Technical Data'}\n"
          ]
        }
      ],
      "source": [
        "cetakarg(name=\"Wiguna\", job=\"Data Analyst\", description = \"Technical Data\")"
      ]
    },
    {
      "cell_type": "code",
      "execution_count": null,
      "metadata": {
        "colab": {
          "base_uri": "https://localhost:8080/"
        },
        "id": "z33yOQ7KXzQo",
        "outputId": "37a48b75-b908-4751-af05-2700137d0efb"
      },
      "outputs": [
        {
          "name": "stdout",
          "output_type": "stream",
          "text": [
            "<class 'dict'>\n",
            "{'Judul': 'Belajar python', 'halaman': 100, 'harga': 10000}\n"
          ]
        }
      ],
      "source": [
        "vardict = {\n",
        "    \"Judul\":\"Belajar python\",\n",
        "    \"halaman\":100,\n",
        "    \"harga\":10000\n",
        "}\n",
        "print(type(vardict))\n",
        "cetakarg(**vardict)"
      ]
    },
    {
      "cell_type": "code",
      "execution_count": null,
      "metadata": {
        "id": "3lQfnDJFYpTH"
      },
      "outputs": [],
      "source": [
        "def cekpolindrome(kata):\n",
        "  if len(kata) < 2:\n",
        "    return True\n",
        "  \n",
        "  if kata[0] != kata[-1]:\n",
        "    return False\n",
        "  \n",
        "  return cekpolindrome(kata[1:-1])"
      ]
    },
    {
      "cell_type": "code",
      "execution_count": null,
      "metadata": {
        "colab": {
          "base_uri": "https://localhost:8080/"
        },
        "id": "bPtAX0kMfrI7",
        "outputId": "95a730ba-9201-4f03-d3ae-8a22b1f1c537"
      },
      "outputs": [
        {
          "data": {
            "text/plain": [
              "False"
            ]
          },
          "execution_count": 66,
          "metadata": {},
          "output_type": "execute_result"
        }
      ],
      "source": [
        "cekpolindrome(\"adah\")"
      ]
    },
    {
      "cell_type": "code",
      "execution_count": null,
      "metadata": {
        "id": "Njq4Kx_ZgDVP"
      },
      "outputs": [],
      "source": [
        "## lambda function\n",
        "perkalian = lambda args1, args2 : args1 * args2"
      ]
    },
    {
      "cell_type": "code",
      "execution_count": null,
      "metadata": {
        "id": "Tx2i8azbhL_m"
      },
      "outputs": [],
      "source": [
        "def perkalian(args1, args2):\n",
        "  return args1 + args2"
      ]
    }
  ],
  "metadata": {
    "colab": {
      "provenance": []
    },
    "kernelspec": {
      "display_name": "Python 3",
      "language": "python",
      "name": "python3"
    },
    "language_info": {
      "name": "python",
      "version": "3.10.10"
    },
    "vscode": {
      "interpreter": {
        "hash": "4da0aebdefe66e2333846f41dc0b3675b892478180c24d1b7edaa5d64c9c5bce"
      }
    }
  },
  "nbformat": 4,
  "nbformat_minor": 0
}
