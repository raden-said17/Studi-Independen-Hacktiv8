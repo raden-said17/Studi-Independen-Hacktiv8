{
  "nbformat": 4,
  "nbformat_minor": 0,
  "metadata": {
    "colab": {
      "provenance": []
    },
    "kernelspec": {
      "name": "python3",
      "display_name": "Python 3"
    },
    "language_info": {
      "name": "python"
    }
  },
  "cells": [
    {
      "cell_type": "markdown",
      "source": [
        "### PERTEMUAN 2 ###"
      ],
      "metadata": {
        "id": "BZ9FW7osAW7i"
      }
    },
    {
      "cell_type": "code",
      "execution_count": null,
      "metadata": {
        "id": "8JEKx1NPHu6c",
        "colab": {
          "base_uri": "https://localhost:8080/"
        },
        "outputId": "e0179d3e-7d66-4052-dcdd-87d26961693e"
      },
      "outputs": [
        {
          "output_type": "stream",
          "name": "stdout",
          "text": [
            "angka Positif\n",
            "didalam statement if\n",
            "luar dari if statement\n"
          ]
        }
      ],
      "source": [
        "number = 10\n",
        "if number > 0:\n",
        "  print(\"angka Positif\")\n",
        "  print(\"didalam statement if\")\n",
        "print(\"luar dari if statement\")"
      ]
    },
    {
      "cell_type": "code",
      "source": [
        "#  inputan\n",
        "transaksi = 10000\n",
        "grade = 80\n",
        "\n",
        "#  logic discount\n",
        "discount = 10\n",
        "if grade > 7:\n",
        "  discount = 50\n",
        "#  logic\n",
        "\n",
        "total_transaksi = transaksi - discount\n",
        "print(total_transaksi)"
      ],
      "metadata": {
        "colab": {
          "base_uri": "https://localhost:8080/"
        },
        "id": "auVNCxZI0EwA",
        "outputId": "6f8d676f-8477-4a33-b3fe-bd03e2ba4b5a"
      },
      "execution_count": null,
      "outputs": [
        {
          "output_type": "stream",
          "name": "stdout",
          "text": [
            "9950\n"
          ]
        }
      ]
    },
    {
      "cell_type": "code",
      "source": [
        "# \n",
        "number = 10\n",
        "if number > 0 :\n",
        "  print(\"Angka Positif\")\n",
        "else:\n",
        "  print(\"angka negatif\")\n",
        "\n",
        "print(\"diluar dari kondisi if else\")"
      ],
      "metadata": {
        "colab": {
          "base_uri": "https://localhost:8080/"
        },
        "id": "F3w6rnVu06em",
        "outputId": "ba72c75e-08d8-4185-956f-ecdc3ed75910"
      },
      "execution_count": null,
      "outputs": [
        {
          "output_type": "stream",
          "name": "stdout",
          "text": [
            "Angka Positif\n",
            "diluar dari kondisi if else\n"
          ]
        }
      ]
    },
    {
      "cell_type": "code",
      "source": [
        "umur = 18\n",
        "if umur == 18:\n",
        "  print(\"kamu remaja\")\n",
        "else:\n",
        "  print(\"kamu bukan remaja\")"
      ],
      "metadata": {
        "colab": {
          "base_uri": "https://localhost:8080/"
        },
        "id": "dXUxOGLv3XlK",
        "outputId": "6111a48b-ecee-4a2d-ab39-887171a3c3e5"
      },
      "execution_count": null,
      "outputs": [
        {
          "output_type": "stream",
          "name": "stdout",
          "text": [
            "kamu remaja\n"
          ]
        }
      ]
    },
    {
      "cell_type": "code",
      "source": [
        "number = 5\n",
        "if number > 0 :\n",
        "  print(\"Angka Positif\")\n",
        "elif number < 0 :\n",
        "  print(\"Angka Negatif\")\n",
        "else:\n",
        "  print(\"angka 0\")\n",
        "\n",
        "print(\"diluar dari kondisi if else\")"
      ],
      "metadata": {
        "colab": {
          "base_uri": "https://localhost:8080/"
        },
        "id": "YKZ9yl0p39h-",
        "outputId": "0c219c0c-68d7-4a3c-dcc2-1ef9f5958d53"
      },
      "execution_count": null,
      "outputs": [
        {
          "output_type": "stream",
          "name": "stdout",
          "text": [
            "Angka Positif\n",
            "diluar dari kondisi if else\n"
          ]
        }
      ]
    },
    {
      "cell_type": "code",
      "source": [
        "nilai = 59\n",
        "absen = 6\n",
        "sopan = True\n",
        "\n",
        "if nilai < 60:\n",
        "  print(\"dipertimbangkan\")\n",
        "  if absen < 7:\n",
        "    print(\"Lulus dengan pertimbangan\")\n",
        "  else:\n",
        "    if sopan:\n",
        "      print(\"Karena baik, maka lulus\")\n",
        "    else:\n",
        "      print(\"tidak lulus\")\n",
        "else:\n",
        "  print(\"Lulus\")"
      ],
      "metadata": {
        "colab": {
          "base_uri": "https://localhost:8080/"
        },
        "id": "w5DWy2HN6kJc",
        "outputId": "f0651a20-c5f2-4b02-b2fa-9eb59f9779c0"
      },
      "execution_count": null,
      "outputs": [
        {
          "output_type": "stream",
          "name": "stdout",
          "text": [
            "dipertimbangkan\n",
            "Lulus dengan pertimbangan\n"
          ]
        }
      ]
    },
    {
      "cell_type": "code",
      "source": [
        "x = 5\n",
        "y = 6\n",
        "i = 2\n",
        "j = 3\n",
        "if 'foo' in ['foo','bar','baz']:\n",
        "    print(\"foo ditemukan\")\n",
        "\n",
        "    if x > y:\n",
        "      print(\"Nilai x lebih besar dari Y\")\n",
        "\n",
        "    print(\"Kondision foo in list\")\n",
        "\n",
        "    if i < j:\n",
        "      print(\"Nilai i lebih besar dari j\")\n",
        "\n",
        "    print(\"Statement terakhir\")\n",
        "print(\"selesai\")"
      ],
      "metadata": {
        "colab": {
          "base_uri": "https://localhost:8080/"
        },
        "id": "rU_xx4NH78Ax",
        "outputId": "6a0ab05b-5283-4c07-fa8a-f555679e7d83"
      },
      "execution_count": null,
      "outputs": [
        {
          "output_type": "stream",
          "name": "stdout",
          "text": [
            "foo ditemukan\n",
            "Kondision foo in list\n",
            "Nilai i lebih besar dari j\n",
            "Statement terakhir\n",
            "selesai\n"
          ]
        }
      ]
    },
    {
      "cell_type": "code",
      "source": [
        "print(\"Hello saya benar\") if \"H\" in \"Hellooooo\" else print(\"Hello kondisi salah\")"
      ],
      "metadata": {
        "colab": {
          "base_uri": "https://localhost:8080/"
        },
        "id": "xKtBSxbW9cv3",
        "outputId": "dd285121-68b3-4bd4-d38c-9e3770aa3a7b"
      },
      "execution_count": null,
      "outputs": [
        {
          "output_type": "stream",
          "name": "stdout",
          "text": [
            "Hello saya benar\n"
          ]
        }
      ]
    },
    {
      "cell_type": "code",
      "source": [
        "hujan = True\n",
        "print(\"Let's go to teh ...\", \"beach\" if not hujan else \"Library\")"
      ],
      "metadata": {
        "colab": {
          "base_uri": "https://localhost:8080/"
        },
        "id": "_Otq3ES693xR",
        "outputId": "f8656cb0-e305-434a-f8c4-f1a08d05162c"
      },
      "execution_count": null,
      "outputs": [
        {
          "output_type": "stream",
          "name": "stdout",
          "text": [
            "Let's go to teh ... Library\n"
          ]
        }
      ]
    },
    {
      "cell_type": "code",
      "source": [
        "umur = 4\n",
        "status_vaksin = \"belum boleh vaksin\" if umur < 5 else \"boleh vaksin\"\n",
        "print(status_vaksin)"
      ],
      "metadata": {
        "colab": {
          "base_uri": "https://localhost:8080/"
        },
        "id": "NqsH42Or-aMM",
        "outputId": "07e74652-7556-4beb-c392-ae49b1afc141"
      },
      "execution_count": null,
      "outputs": [
        {
          "output_type": "stream",
          "name": "stdout",
          "text": [
            "belum boleh vaksin\n"
          ]
        }
      ]
    },
    {
      "cell_type": "markdown",
      "source": [
        "#### Perulangan ####"
      ],
      "metadata": {
        "id": "-yDnQzxX-5RC"
      }
    },
    {
      "cell_type": "code",
      "source": [
        "bahasa = ['Golang','Python','Java','C#','Rust','Vlang']\n",
        "print(bahasa)\n",
        "\n",
        "for lang in bahasa:\n",
        "  print(\"Bahasa pemrograman\")\n",
        "  print(lang)"
      ],
      "metadata": {
        "colab": {
          "base_uri": "https://localhost:8080/"
        },
        "id": "ULUIBJpS-8Ug",
        "outputId": "9e89f931-22c0-4daa-b91a-3ea427ff4cb0"
      },
      "execution_count": null,
      "outputs": [
        {
          "output_type": "stream",
          "name": "stdout",
          "text": [
            "['Golang', 'Python', 'Java', 'C#', 'Rust', 'Vlang']\n",
            "Bahasa pemrograman\n",
            "Golang\n",
            "Bahasa pemrograman\n",
            "Python\n",
            "Bahasa pemrograman\n",
            "Java\n",
            "Bahasa pemrograman\n",
            "C#\n",
            "Bahasa pemrograman\n",
            "Rust\n",
            "Bahasa pemrograman\n",
            "Vlang\n"
          ]
        }
      ]
    },
    {
      "cell_type": "code",
      "source": [
        "mahasiswa = {\"Nim\":\"201810101115\",\"Nama\":\"Wiguna Yanas\",\"Nilai\":\"90\"}\n",
        "\n",
        "for mhs in mahasiswa:\n",
        "  print(mhs)\n",
        "  print(mahasiswa[mhs])"
      ],
      "metadata": {
        "colab": {
          "base_uri": "https://localhost:8080/"
        },
        "id": "M-j6EPywAUTI",
        "outputId": "886f8e0a-16d7-40ac-f264-e050daae8a25"
      },
      "execution_count": null,
      "outputs": [
        {
          "output_type": "stream",
          "name": "stdout",
          "text": [
            "Nim\n",
            "201810101115\n",
            "Nama\n",
            "Wiguna Yanas\n",
            "Nilai\n",
            "90\n"
          ]
        }
      ]
    },
    {
      "cell_type": "code",
      "source": [
        "for k, v in mahasiswa.items():\n",
        "  print(k, \":\", v)"
      ],
      "metadata": {
        "colab": {
          "base_uri": "https://localhost:8080/"
        },
        "id": "ZCMxOqLkBLx7",
        "outputId": "75315e6d-8d9a-44a2-f444-94c52ee8db6a"
      },
      "execution_count": null,
      "outputs": [
        {
          "output_type": "stream",
          "name": "stdout",
          "text": [
            "Nim : 201810101115\n",
            "Nama : Wiguna Yanas\n",
            "Nilai : 90\n"
          ]
        }
      ]
    },
    {
      "cell_type": "code",
      "source": [
        "value = range(5)\n",
        "print(value)\n",
        "\n",
        "for i in value:\n",
        "  print(i)"
      ],
      "metadata": {
        "colab": {
          "base_uri": "https://localhost:8080/"
        },
        "id": "kbTvG7OxBaby",
        "outputId": "5485dca0-d49f-4b2d-8d89-41c8d1dd26df"
      },
      "execution_count": null,
      "outputs": [
        {
          "output_type": "stream",
          "name": "stdout",
          "text": [
            "range(0, 5)\n",
            "0\n",
            "1\n",
            "2\n",
            "3\n",
            "4\n"
          ]
        }
      ]
    },
    {
      "cell_type": "code",
      "source": [
        "for i in (0,1,2,3,4):\n",
        "  print(i)"
      ],
      "metadata": {
        "colab": {
          "base_uri": "https://localhost:8080/"
        },
        "id": "0C8fc22XBxGB",
        "outputId": "b650492a-46b1-4b9b-f7f8-c71a058bb0cd"
      },
      "execution_count": null,
      "outputs": [
        {
          "output_type": "stream",
          "name": "stdout",
          "text": [
            "0\n",
            "1\n",
            "2\n",
            "3\n",
            "4\n"
          ]
        }
      ]
    },
    {
      "cell_type": "code",
      "source": [
        "angka = range(10)\n",
        "\n",
        "for i in angka:\n",
        "  if i % 2 == 0:\n",
        "    print(i, \"Genap\")\n",
        "  else:\n",
        "    print(i, \"Ganjil\")"
      ],
      "metadata": {
        "colab": {
          "base_uri": "https://localhost:8080/"
        },
        "id": "kI6l5iyhBxNz",
        "outputId": "19670b00-6cdb-42d7-f6f4-a08ca318cc5d"
      },
      "execution_count": null,
      "outputs": [
        {
          "output_type": "stream",
          "name": "stdout",
          "text": [
            "0 Genap\n",
            "1 Ganjil\n",
            "2 Genap\n",
            "3 Ganjil\n",
            "4 Genap\n",
            "5 Ganjil\n",
            "6 Genap\n",
            "7 Ganjil\n",
            "8 Genap\n",
            "9 Ganjil\n"
          ]
        }
      ]
    },
    {
      "cell_type": "code",
      "source": [
        "digit = [0,1,2,3,4,5]\n",
        "\n",
        "for i in digit:\n",
        "  print(i)\n",
        "else:\n",
        "  print(\"No item left\")"
      ],
      "metadata": {
        "colab": {
          "base_uri": "https://localhost:8080/"
        },
        "id": "1G1-XEmrCJoY",
        "outputId": "abaca841-36c6-4985-c34b-0403be56a646"
      },
      "execution_count": null,
      "outputs": [
        {
          "output_type": "stream",
          "name": "stdout",
          "text": [
            "0\n",
            "1\n",
            "2\n",
            "3\n",
            "4\n",
            "5\n",
            "No item left\n"
          ]
        }
      ]
    },
    {
      "cell_type": "code",
      "source": [
        "for i in range(5):\n",
        "  print(\"Loop in range\")\n",
        "  if i == 3:\n",
        "    break\n",
        "\n",
        "  print(\"cetak angka ke \",i)"
      ],
      "metadata": {
        "colab": {
          "base_uri": "https://localhost:8080/"
        },
        "id": "45NUuoaCCbUX",
        "outputId": "f95a9d62-71b7-4c60-9bd5-ba6ad96ee938"
      },
      "execution_count": null,
      "outputs": [
        {
          "output_type": "stream",
          "name": "stdout",
          "text": [
            "Loop in range\n",
            "cetak angka ke  0\n",
            "Loop in range\n",
            "cetak angka ke  1\n",
            "Loop in range\n",
            "cetak angka ke  2\n",
            "Loop in range\n"
          ]
        }
      ]
    },
    {
      "cell_type": "code",
      "source": [
        "for varlist in ['foo','bar','baz', 'qmux']:\n",
        "  print(varlist)\n",
        "  if 'z' in varlist:\n",
        "    break\n",
        "\n",
        "  print(i)\n",
        "  i += 1\n",
        "print(i)"
      ],
      "metadata": {
        "colab": {
          "base_uri": "https://localhost:8080/"
        },
        "id": "-qvAict7D8uI",
        "outputId": "8a5f5e18-71aa-4879-8774-0b25ef175bdb"
      },
      "execution_count": null,
      "outputs": [
        {
          "output_type": "stream",
          "name": "stdout",
          "text": [
            "foo\n",
            "3\n",
            "bar\n",
            "4\n",
            "baz\n",
            "5\n"
          ]
        }
      ]
    },
    {
      "cell_type": "code",
      "source": [
        "for varlist in ['foo','bar','baz', 'qmux']:\n",
        "  print(varlist)\n",
        "  if 'r' in varlist:\n",
        "    print(\"r Ditemukan\")\n",
        "    continue\n",
        "  \n",
        "  print(\"kondisi dibawah continue\")\n",
        "print(\"selesai\")"
      ],
      "metadata": {
        "colab": {
          "base_uri": "https://localhost:8080/"
        },
        "id": "_ei4MOwEEYma",
        "outputId": "cccac4ab-daac-4305-e2fd-794765854a9e"
      },
      "execution_count": null,
      "outputs": [
        {
          "output_type": "stream",
          "name": "stdout",
          "text": [
            "foo\n",
            "kondisi dibawah continue\n",
            "bar\n",
            "r Ditemukan\n",
            "baz\n",
            "kondisi dibawah continue\n",
            "qmux\n",
            "kondisi dibawah continue\n",
            "selesai\n"
          ]
        }
      ]
    },
    {
      "cell_type": "code",
      "source": [
        "i = 1\n",
        "n = 5\n",
        "while i <= n:\n",
        "  print(i)\n",
        "  i +=1"
      ],
      "metadata": {
        "colab": {
          "base_uri": "https://localhost:8080/"
        },
        "id": "Naz3Kv0DFmNl",
        "outputId": "0b54ccc5-ba41-4ae3-c90a-67261154fe25"
      },
      "execution_count": null,
      "outputs": [
        {
          "output_type": "stream",
          "name": "stdout",
          "text": [
            "1\n",
            "2\n",
            "3\n",
            "4\n",
            "5\n"
          ]
        }
      ]
    },
    {
      "cell_type": "code",
      "source": [
        "counter = 1\n",
        "while counter < 4:\n",
        "  print(\"didalam while\")\n",
        "  counter += 1\n",
        "else:\n",
        "  print(\"inside while else\")"
      ],
      "metadata": {
        "colab": {
          "base_uri": "https://localhost:8080/"
        },
        "id": "gUbL7-nBGGw_",
        "outputId": "43a51597-9d6d-4466-e031-a48abcf98fea"
      },
      "execution_count": null,
      "outputs": [
        {
          "output_type": "stream",
          "name": "stdout",
          "text": [
            "didalam while\n",
            "didalam while\n",
            "didalam while\n",
            "inside while else\n"
          ]
        }
      ]
    },
    {
      "cell_type": "code",
      "source": [
        "x = ['cat','dog']\n",
        "\n",
        "while len(x):\n",
        "  print(x.pop(0))\n",
        "\n",
        "  y = ['gug','meow']\n",
        "\n",
        "  while(len(y)):\n",
        "    print('>', y.pop(0))"
      ],
      "metadata": {
        "colab": {
          "base_uri": "https://localhost:8080/"
        },
        "id": "5zeajrjAGSQJ",
        "outputId": "bb3c9ca2-12aa-4ede-dac2-7b9b1a42e214"
      },
      "execution_count": null,
      "outputs": [
        {
          "output_type": "stream",
          "name": "stdout",
          "text": [
            "cat\n",
            "> gug\n",
            "> meow\n",
            "dog\n",
            "> gug\n",
            "> meow\n"
          ]
        }
      ]
    },
    {
      "cell_type": "code",
      "source": [
        "x = 4\n",
        "while x > 0: x -=1; print(x)"
      ],
      "metadata": {
        "colab": {
          "base_uri": "https://localhost:8080/"
        },
        "id": "8f_HeS6SG8VV",
        "outputId": "07b9e052-6e75-4ae4-c2ab-49423bc30cce"
      },
      "execution_count": null,
      "outputs": [
        {
          "output_type": "stream",
          "name": "stdout",
          "text": [
            "3\n",
            "2\n",
            "1\n",
            "0\n"
          ]
        }
      ]
    },
    {
      "cell_type": "code",
      "source": [
        "while True:\n",
        "  msg = input(\"Ketikan karakter : \")\n",
        "  print(msg)\n",
        "\n",
        "  if msg ==\"stop\":\n",
        "    break"
      ],
      "metadata": {
        "colab": {
          "base_uri": "https://localhost:8080/"
        },
        "id": "8riHz5BlHNdb",
        "outputId": "e131f75f-d820-4604-975b-bdfe2c29e28b"
      },
      "execution_count": null,
      "outputs": [
        {
          "output_type": "stream",
          "name": "stdout",
          "text": [
            "Ketikan karakter : halo\n",
            "halo\n",
            "Ketikan karakter : aku siapa?\n",
            "aku siapa?\n",
            "Ketikan karakter : stop\n",
            "stop\n"
          ]
        }
      ]
    },
    {
      "cell_type": "code",
      "source": [
        "def SwitchExamples(args):\n",
        "  switch = {\n",
        "      0 : \"angka nol\",\n",
        "      1 : \"angka satu\",\n",
        "      2 : \"angka dua\"\n",
        "  }\n",
        "  return switch.get(args,\"Nothing\")"
      ],
      "metadata": {
        "id": "v41PFHl_Hl3n"
      },
      "execution_count": null,
      "outputs": []
    },
    {
      "cell_type": "code",
      "source": [
        "hasil = SwitchExamples(1)\n",
        "print(hasil)"
      ],
      "metadata": {
        "colab": {
          "base_uri": "https://localhost:8080/"
        },
        "id": "b1W_6FNNICCZ",
        "outputId": "a0a003e3-b824-4ec9-dd51-dc4b0b9b8678"
      },
      "execution_count": null,
      "outputs": [
        {
          "output_type": "stream",
          "name": "stdout",
          "text": [
            "angka satu\n"
          ]
        }
      ]
    },
    {
      "cell_type": "code",
      "source": [
        "hasil = 0\n",
        "temp = input(\"Ketik temperatur yang ingin dikonversi eg. 40F, 18C : \")\n",
        "print(type(temp))\n",
        "print(temp)\n",
        "degree = int(temp[:-1])\n",
        "print(\"degree : \", degree)\n",
        "print(f\"format degree : {degree} \")\n",
        "\n",
        "convertion = temp[-1]\n",
        "print(\"Convertion : \",convertion)\n",
        "\n",
        "if convertion == 'C':\n",
        "  print(\"celcius\")\n",
        "  hasil = int(round(9* degree)/5 +32)\n",
        "elif convertion == 'F':\n",
        "  print(\"F\")\n",
        "  hasil = int(round(degree-32)* 5 /9)\n",
        "else:\n",
        "  print(\"Yang anda input salah\")\n",
        "print(\"temperatur adalah : \", hasil, \"Derajat\")"
      ],
      "metadata": {
        "colab": {
          "base_uri": "https://localhost:8080/"
        },
        "id": "GELc5tm9IJwH",
        "outputId": "f8b54f0c-8cdd-4d78-a48c-19b094da51a6"
      },
      "execution_count": null,
      "outputs": [
        {
          "output_type": "stream",
          "name": "stdout",
          "text": [
            "Ketik temperatur yang ingin dikonversi eg. 40F, 18C : 18\n",
            "<class 'str'>\n",
            "18\n",
            "degree :  18\n",
            "format degree : 18 \n",
            "Convertion :  8\n",
            "Yang anda input salah\n",
            "temperatur adalah :  0 Derajat\n"
          ]
        }
      ]
    },
    {
      "cell_type": "code",
      "source": [
        "for x in range(1,6):\n",
        "  for y in range(x)\n",
        "    print(\"*\")"
      ],
      "metadata": {
        "colab": {
          "base_uri": "https://localhost:8080/",
          "height": 130
        },
        "id": "jx83ZeTDLJeR",
        "outputId": "635405fc-1f14-4c2b-86b1-7159791419ad"
      },
      "execution_count": null,
      "outputs": [
        {
          "output_type": "error",
          "ename": "SyntaxError",
          "evalue": "ignored",
          "traceback": [
            "\u001b[0;36m  File \u001b[0;32m\"<ipython-input-53-f1b92fc58524>\"\u001b[0;36m, line \u001b[0;32m2\u001b[0m\n\u001b[0;31m    for y in range(x)\u001b[0m\n\u001b[0m                     ^\u001b[0m\n\u001b[0;31mSyntaxError\u001b[0m\u001b[0;31m:\u001b[0m invalid syntax\n"
          ]
        }
      ]
    }
  ]
}